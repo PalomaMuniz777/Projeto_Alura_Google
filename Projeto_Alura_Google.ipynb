{
  "nbformat": 4,
  "nbformat_minor": 0,
  "metadata": {
    "colab": {
      "provenance": [],
      "authorship_tag": "ABX9TyOA6C2dxt0sW3L6nNBj70VW",
      "include_colab_link": true
    },
    "kernelspec": {
      "name": "python3",
      "display_name": "Python 3"
    },
    "language_info": {
      "name": "python"
    }
  },
  "cells": [
    {
      "cell_type": "markdown",
      "metadata": {
        "id": "view-in-github",
        "colab_type": "text"
      },
      "source": [
        "<a href=\"https://colab.research.google.com/github/PalomaMuniz777/Projeto_Alura_Google/blob/main/Projeto_Alura_Google.ipynb\" target=\"_parent\"><img src=\"https://colab.research.google.com/assets/colab-badge.svg\" alt=\"Open In Colab\"/></a>"
      ]
    },
    {
      "cell_type": "markdown",
      "source": [
        "Certifique-se de substituir os espaços \"SEU_API_KEY_AQUI\", \"SEU_PROJECT_ID_AQUI\" e \"SEU_ID_DE_SESSÃO_AQUI\" pelos valores corretos da sua conta do Google Studio."
      ],
      "metadata": {
        "id": "dkAp6EUJhhnF"
      }
    },
    {
      "cell_type": "markdown",
      "source": [
        " Importação de Bibliotecas e Definição de Variáveis"
      ],
      "metadata": {
        "id": "Ix987nfbwFLy"
      }
    },
    {
      "cell_type": "code",
      "source": [
        "# Importar bibliotecas necessárias\n",
        "import requests\n",
        "import json\n",
        "import pandas as pd\n",
        "from google.colab import files\n",
        "from google.colab import widgets\n",
        "from IPython.display import display\n",
        "\n",
        "# Carregar API Key do Google Studio\n",
        "API_KEY = \"SEU_API_KEY_AQUI\"\n",
        "PROJECT_ID = \"SEU_PROJECT_ID_AQUI\"\n",
        "SESSION_ID = \"SEU_ID_DE_SESSÃO_AQUI\"\n"
      ],
      "metadata": {
        "id": "HIvu5WZEh3fd"
      },
      "execution_count": 11,
      "outputs": []
    },
    {
      "cell_type": "markdown",
      "source": [
        "Funções"
      ],
      "metadata": {
        "id": "_0sflekEwKqg"
      }
    },
    {
      "cell_type": "code",
      "source": [
        "def studio_request(data):\n",
        "    \"\"\"\n",
        "    Função para fazer requisições à API do Google Studio.\n",
        "\n",
        "    Args:\n",
        "      data: Dicionário com dados a serem enviados.\n",
        "\n",
        "    Returns:\n",
        "      Resposta da API em formato JSON.\n",
        "    \"\"\"\n",
        "\n",
        "    url = f\"https://dialogflow.googleapis.com/v2/projects/{PROJECT_ID}/agent/sessions/{SESSION_ID}:detectContent\"\n",
        "    headers = {\n",
        "        \"Authorization\": f\"Bearer {API_KEY}\",\n",
        "        \"Content-Type\": \"application/json\",\n",
        "    }\n",
        "\n",
        "    response = requests.post(url, headers=headers, json=data)\n",
        "    return response.json()\n",
        "\n",
        "def calcular_pegada_carbono(dados):\n",
        "    \"\"\"\n",
        "    Função para calcular a pegada de carbono individual.\n",
        "\n",
        "    Args:\n",
        "      dados: Dicionário com dados sobre hábitos de consumo, transporte e energia.\n",
        "\n",
        "    Returns:\n",
        "      Valor da pegada de carbono em toneladas de CO2 equivalente.\n",
        "    \"\"\"\n",
        "\n",
        "    # Implementar lógica para calcular a pegada de carbono\n",
        "    # Utilize fatores de emissão específicos para cada categoria (consumo, transporte, energia)\n",
        "    # Considere dados como quantidade de produtos consumidos, distância percorrida e consumo de energia\n",
        "\n",
        "    # Exemplo de cálculo simplificado:\n",
        "    pegada_carbono_consumo = dados[\"consumo\"] * 0.5  # Fator de emissão para consumo\n",
        "    pegada_carbono_transporte = dados[\"transporte\"] * 1.0  # Fator de emissão para transporte\n",
        "    pegada_carbono_energia = dados[\"energia\"] * 0.2  # Fator de emissão para energia\n",
        "\n",
        "    pegada_carbono_total = pegada_carbono_consumo + pegada_carbono_transporte + pegada_carbono_energia\n",
        "\n",
        "    return pegada_carbono_total\n",
        "\n",
        "def gerar_sugestoes(pegada_carbono, dados):\n",
        "    \"\"\"\n",
        "    Função para gerar sugestões personalizadas para reduzir o impacto ambiental.\n",
        "\n",
        "    Args:\n",
        "      pegada_carbono: Valor da pegada de carbono individual.\n",
        "      dados: Dicionário com dados sobre hábitos de consumo, transporte e energia.\n",
        "\n",
        "    Returns:\n",
        "      Lista de sugestões personalizadas em formato de texto.\n",
        "    \"\"\"\n",
        "\n",
        "    sugestoes = []  # Lista para armazenar as sugestões\n",
        "\n",
        "    # Identificar categorias com maior impacto\n",
        "    maior_impacto = max(dados.values())\n",
        "\n",
        "    if maior_impacto == dados[\"consumo\"]:\n",
        "        # Sugestões para reduzir o impacto do consumo\n",
        "        sugestoes.append(\"Consumir menos produtos, especialmente aqueles com alto impacto ambiental.\")\n",
        "        sugestoes.append(\"Optar por produtos locais, sazonais e com menor embalagem.\")\n",
        "        sugestoes.append(\"Comprar produtos de segunda mão ou reutilizar sempre que possível.\")\n",
        "    elif maior_impacto == dados[\"transporte\"]:\n",
        "        # Sugestões para reduzir o impacto do transporte\n",
        "        sugestoes.append(\"Utilizar meios de transporte mais sustentáveis, como bicicleta, transporte público ou carona.\")\n",
        "        sugestoes.append(\"Planejar rotas eficientes e evitar o uso excessivo de carros.\")\n",
        "        sugestoes.append(\"Compensar as emissões de carbono do seu carro com projetos de reflorestamento ou energia renovável.\")\n",
        "    else:\n",
        "        # Sugestões para reduzir o impacto da energia\n",
        "        sugestoes.append(\"Desligar luzes e eletrônicos quando não estiver usando.\")\n",
        "        sugestoes.append(\"Trocar lâmpadas por LEDs e investir em eletrodomésticos eficientes.\")\n",
        "        sugestoes.append(\"Reduzir o consumo de água e tomar banhos mais curtos.\")\n",
        "\n",
        "    # Adicionar sugestões gerais\n",
        "    sugestoes.append(\"Reciclar e compostar seus resíduos.\")\n",
        "    sugestoes.append(\"Apoiar empresas e iniciativas que promovem a sustentabilidade.\")\n",
        "    sugestoes.append(\"Compartilhar seus conhecimentos e inspirar outras pessoas a adotarem um estilo de vida mais sustentável.\")\n",
        "\n",
        "    return sugestoes\n",
        "\n",
        "def atualizar_layout(mensagem, dados=None):\n",
        "    \"\"\"\n",
        "    Função para atualizar o layout do Google Colab com novas informações.\n",
        "\n",
        "    Args:\n",
        "      mensagem: Mensagem a ser exibida para o usuário.\n",
        "      dados: Dicionário com dados a serem utilizados para atualizar o layout (opcional).\n",
        "    \"\"\"\n",
        "\n",
        "    # Limpar o layout atual\n",
        "    display(widgets.clear_output())\n",
        "\n",
        "    # Exibir a mensagem para o usuário\n",
        "    display(widgets.Label(value=mensagem))\n",
        "\n",
        "    # Atualizar o layout com base nos dados\n",
        "    if dados:\n",
        "        for chave, valor in dados.items():\n",
        "            display(widgets.Label(value=f\"{chave}: {valor}\"))\n",
        "\n",
        "    # Exibir um botão para o usuário interagir novamente\n",
        "    # Inserir código para exibir um botão ou campo de entrada, se necessário\n",
        "\n",
        "def coletar_dados_usuario():\n",
        "    \"\"\"\n",
        "    Função para coletar dados do usuário sobre consumo, transporte e energia.\n",
        "\n",
        "    Returns:\n",
        "      Dicionário com dados do usuário.\n",
        "    \"\"\"\n",
        "\n",
        "    dados = {}\n",
        "\n",
        "    # Solicitar dados de consumo ao usuário\n",
        "    dados[\"consumo\"] = float(input(\"Informe seu gasto mensal médio em produtos (ex: 1000): \"))\n",
        "\n",
        "    # Solicitar dados de transporte ao usuário\n",
        "    dados[\"transporte\"] = float(input(\"Informe a distância média percorrida por dia (em km): \"))\n",
        "\n",
        "    # Solicitar dados de energia ao usuário\n",
        "    dados[\"energia\"] = float(input(\"Informe seu gasto mensal médio com energia elétrica (kWh): \"))\n",
        "\n",
        "    return dados\n"
      ],
      "metadata": {
        "id": "tGeh9QsrwMqe"
      },
      "execution_count": 12,
      "outputs": []
    },
    {
      "cell_type": "markdown",
      "source": [
        " Interação com o Chatbot e Lógica Principal"
      ],
      "metadata": {
        "id": "0Ro6SfxMwQyX"
      }
    },
    {
      "cell_type": "code",
      "source": [
        "# Iniciar interação com o chatbot\n",
        "while True:\n",
        "    # Obter mensagem do usuário\n",
        "    texto_entrada = input(\"Digite sua mensagem: \")\n",
        "\n",
        "    # Enviar mensagem para o chatbot\n",
        "    resposta = studio_request({\"queryInput\": {\"text\": {\"text\": texto_entrada}}})\n",
        "\n",
        "    # Processar a resposta do chatbot\n",
        "    texto_saida = resposta[\"queryResult\"][\"fulfillmentText\"]\n",
        "\n",
        "    # Verificar intenção do chatbot\n",
        "    if resposta[\"queryResult\"][\"intent\"][\"displayName\"] == \"PegarDados\":\n",
        "        # Coletar dados do usuário sobre consumo, transporte e energia\n",
        "        dados_usuario = coletar_dados_usuario()\n",
        "        pegada_carbono = calcular_pegada_carbono(dados_usuario)\n",
        "        atualizar_layout(texto_saida, {\"Pegada de Carbono\": f\"{pegada_carbono:.2f} toneladas CO2 equivalente\"})\n",
        "\n",
        "    elif resposta[\"queryResult\"][\"intent\"][\"displayName\"] == \"MostrarSugestoes\":\n",
        "        # Gerar sugestões personalizadas\n",
        "        sugestoes = gerar_sugestoes(pegada_carbono, dados_usuario)\n",
        "        atualizar_layout(texto_saida, {\"Sugestões\": \"\\n\".join(sugestoes)})\n",
        "\n",
        "    elif resposta[\"queryResult\"][\"intent\"][\"displayName\"] == \"Finalizar\":\n",
        "        # Finalizar a interação\n",
        "        atualizar_layout(texto_saida, None)\n",
        "        break\n",
        "\n",
        "    else:\n",
        "        # Exibir mensagem padrão para intenções não identificadas\n",
        "        atualizar_layout(texto_saida, None)\n"
      ],
      "metadata": {
        "id": "S0_YbBSewUxf"
      },
      "execution_count": null,
      "outputs": []
    }
  ]
}